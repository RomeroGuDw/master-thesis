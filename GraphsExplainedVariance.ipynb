{
 "cells": [
  {
   "cell_type": "code",
   "execution_count": 22,
   "metadata": {
    "collapsed": true
   },
   "outputs": [],
   "source": [
    "import numpy as np\n",
    "import matplotlib.pyplot as plt\n",
    "import json"
   ]
  },
  {
   "cell_type": "code",
   "execution_count": 36,
   "metadata": {},
   "outputs": [],
   "source": [
    "root_path = 'C:/Users/David Romero/source/repos/Thesis/Thesis/'\n",
    "json_filename = 'PCA_FE_SC_iter_1.json'\n",
    "with open(root_path + json_filename ) as f:\n",
    "    all_data = json.load(f)\n",
    "    \n",
    "data = np.array(all_data[\"values\"][\"data\"])"
   ]
  },
  {
   "cell_type": "code",
   "execution_count": 37,
   "metadata": {
    "collapsed": true
   },
   "outputs": [],
   "source": [
    "data_norm = (1/data.sum()) * data\n",
    "x = [i for i in range(1,data.size+1)]\n",
    "\n",
    "total = 0\n",
    "data_norm_sum = []\n",
    "for i in range(0,data.size):\n",
    "    total = total + data_norm[i]\n",
    "    data_norm_sum.append(total)"
   ]
  },
  {
   "cell_type": "code",
   "execution_count": 38,
   "metadata": {},
   "outputs": [
    {
     "name": "stdout",
     "output_type": "stream",
     "text": [
      "99.00577195876672 and 129\n",
      "99.90018147614504 and 277\n",
      "feature reduction factor is:  0.83875\n",
      "feature reduction factor is:  0.65375\n"
     ]
    }
   ],
   "source": [
    "counter_1 = 0\n",
    "counter_2 = 0\n",
    "value_1 = 0\n",
    "value_2 = 0\n",
    "\n",
    "val_1_calc = False\n",
    "\n",
    "for i in np.multiply(100,data_norm_sum):\n",
    "    counter_2 = counter_2 + 1\n",
    "    \n",
    "    if(not val_1_calc):\n",
    "        if(i > 99):\n",
    "            value_1 = i\n",
    "            counter_1 = counter_2\n",
    "            val_1_calc = True\n",
    "            print(i, 'and', counter_1)\n",
    "\n",
    "    if(i > 99.9):\n",
    "        value_2 = i\n",
    "        print(i, 'and', counter_2)\n",
    "        break\n",
    "   \n",
    "y_vals = []\n",
    "for i in range(0,1000):\n",
    "    y_vals.append(i/10)\n",
    "\n",
    "print('feature reduction factor is: ', (1-counter_1/data.size))\n",
    "print('feature reduction factor is: ', (1-counter_2/data.size))"
   ]
  },
  {
   "cell_type": "code",
   "execution_count": 39,
   "metadata": {},
   "outputs": [
    {
     "data": {
      "image/png": "[encoded data removed]",
      "text/plain": [
       "<Figure size 432x288 with 1 Axes>"
      ]
     },
     "metadata": {},
     "output_type": "display_data"
    }
   ],
   "source": [
    "plt.figure()\n",
    "plt.title(r'SC')\n",
    "plt.plot(x, np.multiply(100,data_norm_sum))\n",
    "plt.plot(x[0:counter_1], (counter_1)*[value_1], color = 'g', linewidth=1, linestyle = ':', label= '99%')\n",
    "plt.plot(len(y_vals[0:-10])*[counter_1], y_vals[0:-10], color = 'g', linewidth=1, linestyle = ':')\n",
    "\n",
    "plt.plot(len(y_vals)*[counter_2], y_vals, color = 'r', linewidth=1, linestyle = ':', label = '99.9%')\n",
    "plt.plot(x[0:counter_2], (counter_2)*[value_2], color = 'r', linewidth=1, linestyle = ':')\n",
    "\n",
    "plt.ylabel('Explained Variance (%)')\n",
    "plt.xlabel('Number of Principal Components')\n",
    "plt.grid(True)\n",
    "\n",
    "# Locations to plot text\n",
    "l1 = np.array((counter_1, 50 ))\n",
    "l2 = np.array((counter_2, 50))\n",
    "\n",
    "plt.text(l1[0], l1[1], str(counter_1), fontsize=8, color = 'g', fontweight = 'bold' )\n",
    "plt.text(l2[0], l2[1], str(counter_2), fontsize=8, color = 'r', fontweight = 'bold' )\n",
    "\n",
    "plt.xlim(0, None)\n",
    "plt.ylim(0, None)\n",
    "\n",
    "plt.rcParams['axes.spines.top'] = False\n",
    "plt.rcParams['axes.spines.right'] = False\n",
    "\n",
    "plt.legend()\n",
    "\n",
    "plt.savefig('expl_var_sc.png', format='png', dpi=1000)\n",
    "\n",
    "#plt.style.use('ggplot')\n",
    "plt.show()\n"
   ]
  },
  {
   "cell_type": "code",
   "execution_count": 95,
   "metadata": {},
   "outputs": [
    {
     "data": {
      "text/plain": [
       "0.9942231077119265"
      ]
     },
     "execution_count": 95,
     "metadata": {},
     "output_type": "execute_result"
    }
   ],
   "source": [
    "1 - (1114+256)"
   ]
  },
  {
   "cell_type": "code",
   "execution_count": 107,
   "metadata": {},
   "outputs": [
    {
     "data": {
      "text/plain": [
       "0.6126943005181347"
      ]
     },
     "execution_count": 107,
     "metadata": {},
     "output_type": "execute_result"
    }
   ],
   "source": [
    "(1 - 598/1544)"
   ]
  },
  {
   "cell_type": "markdown",
   "metadata": {},
   "source": [
    "###### "
   ]
  }
 ],
 "metadata": {
  "kernelspec": {
   "display_name": "Python 3",
   "language": "python",
   "name": "python3"
  },
  "language_info": {
   "codemirror_mode": {
    "name": "ipython",
    "version": 3
   },
   "file_extension": ".py",
   "mimetype": "text/x-python",
   "name": "python",
   "nbconvert_exporter": "python",
   "pygments_lexer": "ipython3",
   "version": "3.5.5"
  }
 },
 "nbformat": 4,
 "nbformat_minor": 2
}
